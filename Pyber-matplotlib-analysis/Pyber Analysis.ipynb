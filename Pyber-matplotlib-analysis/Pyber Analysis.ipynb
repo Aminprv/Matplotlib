{
 "cells": [
  {
   "cell_type": "markdown",
   "metadata": {},
   "source": [
    "# PYBER ANALYSIS"
   ]
  },
  {
   "cell_type": "markdown",
   "metadata": {},
   "source": [
    "\n",
    "**The analysis gives insights about the demographics and revenue-makers for the Pyber divided in three regions , Urban , suburban and rural comprising of a total of 120 cities ,there are a total of 66 Urban , 36 Suburban , 18 Rural cities in the data .\n",
    "\n",
    "**The urban areas have the the highest share of total number of rides per city with a huge 68.4% of total rides by city type along with 80.9% of total drivers by city type belonging to the urban areas . The urban areas contribute to the Total fares by a 62.7% which is the highest followed by suburban at 30.5% and the rural areas come third at 6.8% .\n",
    "This clearly affirms the Urban areas being the biggest demographic of the company's services with the maximum number of rides , total number of drivers and the biggest revenue generator . Interestingly the urban areas have a much lower average fare between 20 to 28 USD compared to rural and suburban average fares .The highest average fare belongs to rural cities at 44 USD whereas the lowest average fare belongs to Urban cities at 20 USD . The suburban areas have an average fare between 24 and 36 USD. \n",
    "\n",
    "**This trend is consistent when analyzing the total percentage of drivers in suburban areas being 16.5% and in the rural areas it is 2.6%. Similarly the total rides per city have the suburban areas at 26.3% and rural at 5.3% .\n",
    "\n",
    "* The city with the highest average fare is \"Taylorhaven\" at 42.26 USD and lies within the rural area.\n",
    "* The city with the lowest average fare is \"South Latoya\" at 20 USD and lies within the urban area.\n",
    "* The city with the maximum number of rides is \"West Angela\" at 39 rides and lies in the urban area with an average     fare of 29 USD and the minimum number of rides were given in the city \"South Saramouth\" at 6 rides and lies within     the rural area and has an average fare of 36 USD.\n"
   ]
  },
  {
   "cell_type": "code",
   "execution_count": null,
   "metadata": {},
   "outputs": [],
   "source": [
    "%matplotlib inline\n",
    "# Dependencies and Setup\n",
    "import matplotlib.pyplot as plt\n",
    "import pandas as pd\n",
    "import numpy as np\n",
    "\n",
    "\n"
   ]
  },
  {
   "cell_type": "code",
   "execution_count": null,
   "metadata": {},
   "outputs": [],
   "source": [
    "# Files to Load \n",
    "city_data = \"city_data.csv\"\n",
    "ride_data = \"ride_data.csv\"\n",
    "\n",
    "\n",
    "# Read the City and Ride Data\n",
    "city_data = pd.read_csv(city_data)\n",
    "ride_data = pd.read_csv(ride_data)\n",
    "\n",
    "\n",
    "# Combine the data into a single dataset\n",
    "combined_df = pd.merge(ride_data, city_data, on=\"city\", how =\"left\", indicator=True)\n",
    "\n",
    "combined_df.head(10)\n",
    "#2375 rows × 7 columns"
   ]
  },
  {
   "cell_type": "code",
   "execution_count": null,
   "metadata": {},
   "outputs": [],
   "source": [
    "combined_df.info()"
   ]
  },
  {
   "cell_type": "code",
   "execution_count": null,
   "metadata": {},
   "outputs": [],
   "source": [
    "#Take a count and check for any NaN values\n",
    "\n",
    "combined_df.count()\n",
    "combined_df = combined_df.dropna(how = \"any\")\n",
    "combined_df.count()\n",
    "#Row nos remain 2375 before and after dropping any NaN values so there are none NaN found."
   ]
  },
  {
   "cell_type": "code",
   "execution_count": null,
   "metadata": {},
   "outputs": [],
   "source": [
    "#check how many unique cities are there\n",
    "\n",
    "total_cities = combined_df[\"city\"].unique()\n",
    "print(len(total_cities)) # 120 citie\n"
   ]
  },
  {
   "cell_type": "code",
   "execution_count": null,
   "metadata": {
    "scrolled": true
   },
   "outputs": [],
   "source": [
    "# Group the data acc to cities\n",
    "city_grouped = combined_df.groupby([\"city\"])\n",
    "city_grouped.head()"
   ]
  },
  {
   "cell_type": "code",
   "execution_count": null,
   "metadata": {},
   "outputs": [],
   "source": [
    "\n",
    "\n",
    "#Average Fare ($) Per City( y axis)\n",
    "avg_fare = city_grouped[\"fare\"].mean()\n",
    "\n"
   ]
  },
  {
   "cell_type": "code",
   "execution_count": null,
   "metadata": {},
   "outputs": [],
   "source": [
    "\n",
    "\n",
    "city_grouped.count().head()"
   ]
  },
  {
   "cell_type": "code",
   "execution_count": null,
   "metadata": {},
   "outputs": [],
   "source": [
    "#Total Number of Rides Per City( x axis )\n",
    "total_rides = combined_df.groupby([\"city\"])[\"ride_id\"].count()\n",
    "\n",
    "total_rides.head()"
   ]
  },
  {
   "cell_type": "code",
   "execution_count": null,
   "metadata": {},
   "outputs": [],
   "source": [
    "#Total Number of Drivers Per City\n",
    "total_drivers = combined_df.groupby([\"city\"])[\"driver_count\"].mean()\n",
    "\n",
    "total_drivers.head()"
   ]
  },
  {
   "cell_type": "code",
   "execution_count": null,
   "metadata": {},
   "outputs": [],
   "source": [
    "city_types = city_data.set_index([\"city\"])[\"type\"]\n",
    "city_types.value_counts()\n"
   ]
  },
  {
   "cell_type": "code",
   "execution_count": null,
   "metadata": {},
   "outputs": [],
   "source": [
    "combined_df2 = pd.DataFrame({\"Average Fare per City\":avg_fare,\n",
    "                \"Number of Rides\": total_rides,\n",
    "                \"Number of Drivers\": total_drivers,\n",
    "                \"City Type\": city_types\n",
    "})\n",
    "combined_df2.head()"
   ]
  },
  {
   "cell_type": "code",
   "execution_count": null,
   "metadata": {},
   "outputs": [],
   "source": [
    "#Filtering on the basis of city type and creating Urban , Suburban and Rural dataframes.\n",
    "\n",
    "urban_df = combined_df2.loc[combined_df2[\"City Type\"]== \"Urban\"]\n",
    "\n",
    "suburban_df = combined_df2.loc[combined_df2[\"City Type\"]== \"Suburban\"]\n",
    "\n",
    "rural_df = combined_df2.loc[combined_df2[\"City Type\"]== \"Rural\"]\n",
    "\n",
    "urban_df.head()"
   ]
  },
  {
   "cell_type": "code",
   "execution_count": null,
   "metadata": {},
   "outputs": [],
   "source": [
    "#Create a Scatterplot\n",
    "\n",
    "\n",
    "plt.scatter(urban_df[\"Number of Rides\"], urban_df[\"Average Fare per City\"], marker=\"o\", color = \"lightcoral\", \n",
    "            edgecolors=\"black\", s = urban_df[\"Number of Drivers\"]*20, label = \"Urban\", alpha = 0.5, linewidth = 1.5)\n",
    "\n",
    "plt.scatter(suburban_df[\"Number of Rides\"], suburban_df[\"Average Fare per City\"], marker=\"o\", color = \"lightskyblue\", \n",
    "            edgecolors=\"black\", s = suburban_df[\"Number of Drivers\"]*20, label = \"SubUrban\", alpha = 0.5, \n",
    "            linewidth = 1.5)\n",
    "\n",
    "plt.scatter(rural_df[\"Number of Rides\"], rural_df[\"Average Fare per City\"], marker=\"o\", color = \"gold\", \n",
    "            edgecolors=\"black\", s = rural_df[\"Number of Drivers\"]*20, label = \"Rural\", alpha = 0.5, linewidth = 1.5)\n",
    "\n",
    "\n",
    "textstr = 'Note: Circle size correlates with driver count per city'\n",
    "plt.text(42, 30, textstr, fontsize=12)\n",
    "plt.subplots_adjust(right=1)\n",
    "\n",
    "plt.xlim(0 , 41)\n",
    "plt.ylim(18, 45)\n",
    "plt.xlabel(\"Total number of rides(Per City)\")\n",
    "plt.ylabel(\"Average Fare($)\")\n",
    "plt.title(\"Pyber Ride sharing data(2016)\")\n",
    "\n",
    "legend = plt.legend(loc= \"best\", title=\"City Types\")\n",
    "legend.legendHandles[0]._sizes = [30]\n",
    "legend.legendHandles[1]._sizes = [30]\n",
    "legend.legendHandles[2]._sizes = [30]\n",
    "\n",
    "plt.grid()\n",
    "plt.savefig(\"./Resources/pyberimage\")\n",
    "plt.show()\n",
    "   \n"
   ]
  },
  {
   "cell_type": "code",
   "execution_count": null,
   "metadata": {},
   "outputs": [],
   "source": [
    "# Total Fares by City Type\n",
    "\n",
    "# Calculate Type Percents\n",
    "\n",
    "# Build Pie Chart\n",
    "\n",
    "# Save Figure\n"
   ]
  },
  {
   "cell_type": "code",
   "execution_count": null,
   "metadata": {},
   "outputs": [],
   "source": [
    "total_fares = combined_df.groupby([\"type\"])[\"fare\"].sum()\n",
    "\n",
    "Urban_fare= 39854.38\n",
    "Suburban_fare = 19356.33\n",
    "Rural_fare = 4327.93\n",
    "\n",
    "fare_sum = (Rural_fare + Suburban_fare + Urban_fare )\n",
    "\n",
    "rural_percent = (Rural_fare / fare_sum) *100\n",
    "urban_percent = (Urban_fare / fare_sum)* 100\n",
    "suburban_percent = (Suburban_fare / fare_sum)*100\n",
    "\n",
    "fare_percents = [ suburban_percent , urban_percent, rural_percent ]\n",
    "labels = [ \"Suburban\" , \"Urban\", \"Rural\" ]\n",
    "colors= [ \"lightskyblue\" , \"lightcoral\", \"gold\"]\n",
    "explode = (0,  0.10 , 0)\n",
    "\n",
    "plt.title(\"% of Total Fares By City Type\")\n",
    "plt.pie(fare_percents, explode=explode, labels=labels ,colors=colors, autopct=\"%1.1f%%\", shadow=True, startangle=150)\n",
    "plt.show\n",
    "plt.savefig(\"./Resources/pyberimage2\")\n",
    "total_fares"
   ]
  },
  {
   "cell_type": "code",
   "execution_count": null,
   "metadata": {},
   "outputs": [],
   "source": []
  },
  {
   "cell_type": "code",
   "execution_count": null,
   "metadata": {},
   "outputs": [],
   "source": [
    "# Total Rides by City Type\n",
    "\n",
    "# Calculate Ride Percents\n",
    "\n",
    "# Build Pie Chart\n",
    "\n",
    "# Save Figure\n"
   ]
  },
  {
   "cell_type": "code",
   "execution_count": null,
   "metadata": {},
   "outputs": [],
   "source": [
    "total_rides = combined_df.groupby([\"type\"])[\"ride_id\"].count()\n",
    "Rural_rides = 125\n",
    "Suburban_rides = 625\n",
    "Urban_rides = 1625\n",
    "\n",
    "sum_rides= (Rural_rides + Suburban_rides + Urban_rides )\n",
    "\n",
    "ruralrides_percent = (Rural_rides /sum_rides) *100\n",
    "urbanrides_percent = (Urban_rides / sum_rides)* 100\n",
    "suburbanrides_percent = (Suburban_rides /sum_rides)*100\n",
    "\n",
    "\n",
    "percent_rides = [ suburbanrides_percent , urbanrides_percent, ruralrides_percent ]\n",
    "labels = [ \"Suburban\" ,\"Urban\", \"Rural\" ]\n",
    "colors= [ \"lightskyblue\" , \"lightcoral\", \"gold\" ]\n",
    "explode = (0, 0.10, 0)\n",
    "\n",
    "plt.title(\"% of Total Rides By City Type\")\n",
    "plt.pie(percent_rides, explode=explode, labels=labels , colors=colors, autopct=\"%1.1f%%\",shadow=True,startangle=160)\n",
    "plt.show\n",
    "plt.savefig(\"./Resources/pyberimage3\")"
   ]
  },
  {
   "cell_type": "code",
   "execution_count": null,
   "metadata": {},
   "outputs": [],
   "source": []
  },
  {
   "cell_type": "code",
   "execution_count": null,
   "metadata": {},
   "outputs": [],
   "source": [
    "#Total Drivers by City Type\n",
    "\n",
    "# Calculate Driver Percents\n",
    "\n",
    "# Build Pie Charts\n",
    "\n",
    "# Save Figure\n"
   ]
  },
  {
   "cell_type": "code",
   "execution_count": null,
   "metadata": {},
   "outputs": [],
   "source": [
    "total_drivers = city_data.groupby([\"type\"]).sum()[\"driver_count\"]\n",
    "Rural_drivers = 78\n",
    "Suburban_drivers = 490\n",
    "Urban_drivers = 2405\n",
    "\n",
    "sum_drivers= (Rural_drivers + Suburban_drivers + Urban_drivers )\n",
    "\n",
    "ruraldrivers_percent = (Rural_drivers/sum_drivers) *100\n",
    "urbandrivers_percent = (Urban_drivers / sum_drivers)* 100\n",
    "suburbandrivers_percent = (Suburban_drivers /sum_drivers)*100\n",
    "\n",
    "\n",
    "percent_drivers = [ suburbandrivers_percent , urbandrivers_percent, ruraldrivers_percent ]\n",
    "labels = [ \"Suburban\" ,\"Urban\", \"Rural\" ]\n",
    "colors= [ \"lightskyblue\" , \"lightcoral\", \"gold\" ]\n",
    "explode = (0, 0.10, 0)\n",
    "\n",
    "plt.title(\"% of Total Drivers By City Type\")\n",
    "plt.pie(percent_drivers,explode=explode, labels=labels ,colors=colors,autopct=\"%1.1f%%\", shadow=True, startangle=150)\n",
    "plt.show\n",
    "plt.savefig(\"./Resources/pyberimage3\")\n"
   ]
  },
  {
   "cell_type": "code",
   "execution_count": null,
   "metadata": {},
   "outputs": [],
   "source": []
  }
 ],
 "metadata": {
  "kernelspec": {
   "display_name": "Python 3",
   "language": "python",
   "name": "python3"
  },
  "language_info": {
   "codemirror_mode": {
    "name": "ipython",
    "version": 3
   },
   "file_extension": ".py",
   "mimetype": "text/x-python",
   "name": "python",
   "nbconvert_exporter": "python",
   "pygments_lexer": "ipython3",
   "version": "3.7.1"
  }
 },
 "nbformat": 4,
 "nbformat_minor": 2
}
